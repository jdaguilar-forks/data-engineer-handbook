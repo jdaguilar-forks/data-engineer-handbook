{
 "cells": [
  {
   "cell_type": "markdown",
   "metadata": {},
   "source": [
    "# Week 2 Fact Data Modeling\n",
    "The homework this week will be using the `devices` and `events` dataset\n",
    "\n",
    "Construct the following eight queries:"
   ]
  },
  {
   "cell_type": "markdown",
   "metadata": {},
   "source": [
    "- A query to deduplicate `game_details` from Day 1 so there's no duplicates"
   ]
  },
  {
   "cell_type": "code",
   "execution_count": null,
   "metadata": {
    "vscode": {
     "languageId": "plaintext"
    }
   },
   "outputs": [],
   "source": [
    "-- deduplicate_game_details.sql\n",
    "\n",
    "WITH game_details_deduped AS (\n",
    "    SELECT *, ROW_NUMBER() OVER(PARTITION BY game_id, team_id, player_id) as row_num\n",
    "\tFROM game_details\n",
    ")\n",
    "select * FROM game_details_deduped WHERE row_num > 1"
   ]
  },
  {
   "cell_type": "markdown",
   "metadata": {},
   "source": [
    "- A DDL for an `user_devices_cumulated` table that has:\n",
    "  - a `device_activity_datelist` which tracks a users active days by `browser_type`\n",
    "  - data type here should look similar to `MAP<STRING, ARRAY[DATE]>`\n",
    "    - or you could have `browser_type` as a column with multiple rows for each user (either way works, just be consistent!)\n"
   ]
  },
  {
   "cell_type": "code",
   "execution_count": null,
   "metadata": {
    "vscode": {
     "languageId": "plaintext"
    }
   },
   "outputs": [],
   "source": [
    "-- user_devices_cumulated.sql\n",
    "CREATE TABLE user_devices_cumulated (\n",
    "    user_id STRING,\n",
    "    device_activity_datelist MAP<STRING, ARRAY<DATE>>\n",
    ");"
   ]
  },
  {
   "cell_type": "markdown",
   "metadata": {},
   "source": [
    "- A cumulative query to generate `device_activity_datelist` from `events`"
   ]
  },
  {
   "cell_type": "code",
   "execution_count": null,
   "metadata": {
    "vscode": {
     "languageId": "plaintext"
    }
   },
   "outputs": [],
   "source": [
    "-- cumulative_device_activity_datelist.sql\n",
    "SELECT user_id,\n",
    "       browser_type,\n",
    "       ARRAY_AGG(DISTINCT event_date) AS device_activity_datelist\n",
    "FROM events\n",
    "GROUP BY user_id, browser_type;"
   ]
  },
  {
   "cell_type": "markdown",
   "metadata": {},
   "source": [
    "- A `datelist_int` generation query. Convert the `device_activity_datelist` column into a `datelist_int` column "
   ]
  },
  {
   "cell_type": "code",
   "execution_count": null,
   "metadata": {
    "vscode": {
     "languageId": "plaintext"
    }
   },
   "outputs": [],
   "source": [
    "-- datelist_int_generation.sql\n",
    "SELECT user_id,\n",
    "       browser_type,\n",
    "       ARRAY_TRANSFORM(device_activity_datelist, date -> CAST(date AS INT)) AS datelist_int\n",
    "FROM user_devices_cumulated;"
   ]
  },
  {
   "cell_type": "markdown",
   "metadata": {},
   "source": [
    "- A DDL for `hosts_cumulated` table \n",
    "  - a `host_activity_datelist` which logs to see which dates each host is experiencing any activity\n",
    "  "
   ]
  },
  {
   "cell_type": "code",
   "execution_count": null,
   "metadata": {
    "vscode": {
     "languageId": "plaintext"
    }
   },
   "outputs": [],
   "source": [
    "-- hosts_cumulated.sql\n",
    "CREATE TABLE hosts_cumulated (\n",
    "    host_id STRING,\n",
    "    host_activity_datelist ARRAY<DATE>\n",
    ");"
   ]
  },
  {
   "cell_type": "markdown",
   "metadata": {},
   "source": [
    "- The incremental query to generate `host_activity_datelist`\n"
   ]
  },
  {
   "cell_type": "code",
   "execution_count": null,
   "metadata": {
    "vscode": {
     "languageId": "plaintext"
    }
   },
   "outputs": [],
   "source": [
    "-- incremental_host_activity_datelist.sql\n",
    "INSERT INTO hosts_cumulated (host_id, host_activity_datelist)\n",
    "SELECT host_id,\n",
    "       ARRAY_AGG(DISTINCT event_date)\n",
    "FROM events\n",
    "WHERE event_date >= CURRENT_DATE - INTERVAL '1 DAY'\n",
    "GROUP BY host_id;"
   ]
  },
  {
   "cell_type": "markdown",
   "metadata": {},
   "source": [
    "- A monthly, reduced fact table DDL `host_activity_reduced`\n",
    "   - month\n",
    "   - host\n",
    "   - hit_array - think COUNT(1)\n",
    "   - unique_visitors array -  think COUNT(DISTINCT user_id)"
   ]
  },
  {
   "cell_type": "code",
   "execution_count": null,
   "metadata": {
    "vscode": {
     "languageId": "plaintext"
    }
   },
   "outputs": [],
   "source": [
    "-- host_activity_reduced.sql\n",
    "CREATE TABLE host_activity_reduced (\n",
    "    month STRING,\n",
    "    host STRING,\n",
    "    hit_array INT,\n",
    "    unique_visitors ARRAY<STRING>\n",
    ");"
   ]
  },
  {
   "cell_type": "markdown",
   "metadata": {},
   "source": [
    "- An incremental query that loads `host_activity_reduced`\n",
    "  - day-by-day"
   ]
  },
  {
   "cell_type": "code",
   "execution_count": null,
   "metadata": {
    "vscode": {
     "languageId": "plaintext"
    }
   },
   "outputs": [],
   "source": [
    "-- incremental_host_activity_reduced.sql\n",
    "INSERT INTO host_activity_reduced (month, host, hit_array, unique_visitors)\n",
    "SELECT DATE_TRUNC('month', event_date) AS month,\n",
    "       host_id,\n",
    "       COUNT(1) AS hit_array,\n",
    "       ARRAY_AGG(DISTINCT user_id) AS unique_visitors\n",
    "FROM events\n",
    "GROUP BY month, host_id;"
   ]
  },
  {
   "cell_type": "markdown",
   "metadata": {},
   "source": [
    "Please add these queries into a folder, zip them up and submit [here](https://bootcamp.techcreator.io)"
   ]
  }
 ],
 "metadata": {
  "language_info": {
   "name": "python"
  }
 },
 "nbformat": 4,
 "nbformat_minor": 2
}
